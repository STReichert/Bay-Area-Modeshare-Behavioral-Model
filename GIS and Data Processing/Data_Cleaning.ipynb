{
 "cells": [
  {
   "cell_type": "code",
   "execution_count": 1,
   "metadata": {},
   "outputs": [],
   "source": [
    "import pandas as pd"
   ]
  },
  {
   "cell_type": "code",
   "execution_count": 2,
   "metadata": {},
   "outputs": [
    {
     "data": {
      "text/html": [
       "<div>\n",
       "<style scoped>\n",
       "    .dataframe tbody tr th:only-of-type {\n",
       "        vertical-align: middle;\n",
       "    }\n",
       "\n",
       "    .dataframe tbody tr th {\n",
       "        vertical-align: top;\n",
       "    }\n",
       "\n",
       "    .dataframe thead th {\n",
       "        text-align: right;\n",
       "    }\n",
       "</style>\n",
       "<table border=\"1\" class=\"dataframe\">\n",
       "  <thead>\n",
       "    <tr style=\"text-align: right;\">\n",
       "      <th></th>\n",
       "      <th>OID_</th>\n",
       "      <th>objectid</th>\n",
       "      <th>taz1454</th>\n",
       "      <th>district</th>\n",
       "      <th>county</th>\n",
       "      <th>gacres</th>\n",
       "      <th>SHAPE_Leng</th>\n",
       "      <th>SHAPE_Area</th>\n",
       "      <th>OBJECTID_1</th>\n",
       "      <th>taz1454_1</th>\n",
       "      <th>Shape_Area_1</th>\n",
       "      <th>AREA</th>\n",
       "      <th>PERCENTAGE</th>\n",
       "    </tr>\n",
       "  </thead>\n",
       "  <tbody>\n",
       "    <tr>\n",
       "      <th>0</th>\n",
       "      <td>0</td>\n",
       "      <td>1</td>\n",
       "      <td>566</td>\n",
       "      <td>11</td>\n",
       "      <td>Santa Clara</td>\n",
       "      <td>1708.683056</td>\n",
       "      <td>0.097550</td>\n",
       "      <td>-0.000444</td>\n",
       "      <td>NaN</td>\n",
       "      <td>NaN</td>\n",
       "      <td>NaN</td>\n",
       "      <td>1.781123e+06</td>\n",
       "      <td>25.758150</td>\n",
       "    </tr>\n",
       "    <tr>\n",
       "      <th>1</th>\n",
       "      <td>1</td>\n",
       "      <td>2</td>\n",
       "      <td>565</td>\n",
       "      <td>11</td>\n",
       "      <td>Santa Clara</td>\n",
       "      <td>486.200669</td>\n",
       "      <td>0.054171</td>\n",
       "      <td>-0.000126</td>\n",
       "      <td>NaN</td>\n",
       "      <td>NaN</td>\n",
       "      <td>NaN</td>\n",
       "      <td>8.117326e+05</td>\n",
       "      <td>41.255287</td>\n",
       "    </tr>\n",
       "    <tr>\n",
       "      <th>2</th>\n",
       "      <td>68</td>\n",
       "      <td>69</td>\n",
       "      <td>394</td>\n",
       "      <td>9</td>\n",
       "      <td>Santa Clara</td>\n",
       "      <td>530.497558</td>\n",
       "      <td>0.046852</td>\n",
       "      <td>-0.000138</td>\n",
       "      <td>NaN</td>\n",
       "      <td>NaN</td>\n",
       "      <td>NaN</td>\n",
       "      <td>3.169298e+05</td>\n",
       "      <td>14.762566</td>\n",
       "    </tr>\n",
       "    <tr>\n",
       "      <th>3</th>\n",
       "      <td>69</td>\n",
       "      <td>70</td>\n",
       "      <td>450</td>\n",
       "      <td>9</td>\n",
       "      <td>Santa Clara</td>\n",
       "      <td>529.105063</td>\n",
       "      <td>0.047786</td>\n",
       "      <td>-0.000137</td>\n",
       "      <td>NaN</td>\n",
       "      <td>NaN</td>\n",
       "      <td>NaN</td>\n",
       "      <td>6.607214e+05</td>\n",
       "      <td>30.857353</td>\n",
       "    </tr>\n",
       "    <tr>\n",
       "      <th>4</th>\n",
       "      <td>70</td>\n",
       "      <td>71</td>\n",
       "      <td>425</td>\n",
       "      <td>9</td>\n",
       "      <td>Santa Clara</td>\n",
       "      <td>263.724329</td>\n",
       "      <td>0.038634</td>\n",
       "      <td>-0.000068</td>\n",
       "      <td>NaN</td>\n",
       "      <td>NaN</td>\n",
       "      <td>NaN</td>\n",
       "      <td>6.541231e+04</td>\n",
       "      <td>6.129027</td>\n",
       "    </tr>\n",
       "  </tbody>\n",
       "</table>\n",
       "</div>"
      ],
      "text/plain": [
       "   OID_  objectid  taz1454  district       county       gacres  SHAPE_Leng  \\\n",
       "0     0         1      566        11  Santa Clara  1708.683056    0.097550   \n",
       "1     1         2      565        11  Santa Clara   486.200669    0.054171   \n",
       "2    68        69      394         9  Santa Clara   530.497558    0.046852   \n",
       "3    69        70      450         9  Santa Clara   529.105063    0.047786   \n",
       "4    70        71      425         9  Santa Clara   263.724329    0.038634   \n",
       "\n",
       "   SHAPE_Area  OBJECTID_1  taz1454_1  Shape_Area_1          AREA  PERCENTAGE  \n",
       "0   -0.000444         NaN        NaN           NaN  1.781123e+06   25.758150  \n",
       "1   -0.000126         NaN        NaN           NaN  8.117326e+05   41.255287  \n",
       "2   -0.000138         NaN        NaN           NaN  3.169298e+05   14.762566  \n",
       "3   -0.000137         NaN        NaN           NaN  6.607214e+05   30.857353  \n",
       "4   -0.000068         NaN        NaN           NaN  6.541231e+04    6.129027  "
      ]
     },
     "execution_count": 2,
     "metadata": {},
     "output_type": "execute_result"
    }
   ],
   "source": [
    "df = pd.read_csv('taz_calc.csv')\n",
    "df.head()"
   ]
  },
  {
   "cell_type": "code",
   "execution_count": 4,
   "metadata": {},
   "outputs": [
    {
     "data": {
      "text/html": [
       "<div>\n",
       "<style scoped>\n",
       "    .dataframe tbody tr th:only-of-type {\n",
       "        vertical-align: middle;\n",
       "    }\n",
       "\n",
       "    .dataframe tbody tr th {\n",
       "        vertical-align: top;\n",
       "    }\n",
       "\n",
       "    .dataframe thead th {\n",
       "        text-align: right;\n",
       "    }\n",
       "</style>\n",
       "<table border=\"1\" class=\"dataframe\">\n",
       "  <thead>\n",
       "    <tr style=\"text-align: right;\">\n",
       "      <th></th>\n",
       "      <th>OID_</th>\n",
       "      <th>objectid</th>\n",
       "      <th>taz1454</th>\n",
       "      <th>district</th>\n",
       "      <th>county</th>\n",
       "      <th>gacres</th>\n",
       "      <th>SHAPE_Leng</th>\n",
       "      <th>SHAPE_Area</th>\n",
       "      <th>PERCENTAGE</th>\n",
       "    </tr>\n",
       "  </thead>\n",
       "  <tbody>\n",
       "    <tr>\n",
       "      <th>0</th>\n",
       "      <td>0</td>\n",
       "      <td>1</td>\n",
       "      <td>566</td>\n",
       "      <td>11</td>\n",
       "      <td>Santa Clara</td>\n",
       "      <td>1708.683056</td>\n",
       "      <td>0.097550</td>\n",
       "      <td>-0.000444</td>\n",
       "      <td>25.758150</td>\n",
       "    </tr>\n",
       "    <tr>\n",
       "      <th>1</th>\n",
       "      <td>1</td>\n",
       "      <td>2</td>\n",
       "      <td>565</td>\n",
       "      <td>11</td>\n",
       "      <td>Santa Clara</td>\n",
       "      <td>486.200669</td>\n",
       "      <td>0.054171</td>\n",
       "      <td>-0.000126</td>\n",
       "      <td>41.255287</td>\n",
       "    </tr>\n",
       "    <tr>\n",
       "      <th>2</th>\n",
       "      <td>68</td>\n",
       "      <td>69</td>\n",
       "      <td>394</td>\n",
       "      <td>9</td>\n",
       "      <td>Santa Clara</td>\n",
       "      <td>530.497558</td>\n",
       "      <td>0.046852</td>\n",
       "      <td>-0.000138</td>\n",
       "      <td>14.762566</td>\n",
       "    </tr>\n",
       "    <tr>\n",
       "      <th>3</th>\n",
       "      <td>69</td>\n",
       "      <td>70</td>\n",
       "      <td>450</td>\n",
       "      <td>9</td>\n",
       "      <td>Santa Clara</td>\n",
       "      <td>529.105063</td>\n",
       "      <td>0.047786</td>\n",
       "      <td>-0.000137</td>\n",
       "      <td>30.857353</td>\n",
       "    </tr>\n",
       "    <tr>\n",
       "      <th>4</th>\n",
       "      <td>70</td>\n",
       "      <td>71</td>\n",
       "      <td>425</td>\n",
       "      <td>9</td>\n",
       "      <td>Santa Clara</td>\n",
       "      <td>263.724329</td>\n",
       "      <td>0.038634</td>\n",
       "      <td>-0.000068</td>\n",
       "      <td>6.129027</td>\n",
       "    </tr>\n",
       "  </tbody>\n",
       "</table>\n",
       "</div>"
      ],
      "text/plain": [
       "   OID_  objectid  taz1454  district       county       gacres  SHAPE_Leng  \\\n",
       "0     0         1      566        11  Santa Clara  1708.683056    0.097550   \n",
       "1     1         2      565        11  Santa Clara   486.200669    0.054171   \n",
       "2    68        69      394         9  Santa Clara   530.497558    0.046852   \n",
       "3    69        70      450         9  Santa Clara   529.105063    0.047786   \n",
       "4    70        71      425         9  Santa Clara   263.724329    0.038634   \n",
       "\n",
       "   SHAPE_Area  PERCENTAGE  \n",
       "0   -0.000444   25.758150  \n",
       "1   -0.000126   41.255287  \n",
       "2   -0.000138   14.762566  \n",
       "3   -0.000137   30.857353  \n",
       "4   -0.000068    6.129027  "
      ]
     },
     "execution_count": 4,
     "metadata": {},
     "output_type": "execute_result"
    }
   ],
   "source": [
    "df.drop(['OBJECTID_1', 'taz1454_1', 'Shape_Area_1', 'AREA'], axis=1, inplace=True)\n",
    "df.PERCENTAGE.fillna(0, inplace=True)\n",
    "df.head()"
   ]
  },
  {
   "cell_type": "code",
   "execution_count": 8,
   "metadata": {},
   "outputs": [
    {
     "data": {
      "text/plain": [
       "county\n",
       "Alameda          43\n",
       "Contra Costa      5\n",
       "San Francisco    84\n",
       "San Mateo         3\n",
       "Santa Clara      17\n",
       "Solano            1\n",
       "Name: PERCENTAGE, dtype: int64"
      ]
     },
     "execution_count": 8,
     "metadata": {},
     "output_type": "execute_result"
    }
   ],
   "source": [
    "df.query('PERCENTAGE >= 50').groupby('county').count()['PERCENTAGE']"
   ]
  },
  {
   "cell_type": "code",
   "execution_count": null,
   "metadata": {},
   "outputs": [],
   "source": [
    "pd.set_option()"
   ]
  },
  {
   "cell_type": "code",
   "execution_count": 10,
   "metadata": {},
   "outputs": [
    {
     "data": {
      "text/plain": [
       "Index(['originTAZ', 'destTAZ', 'tt_da', 'cost_da', 'tt_sr', 'cost_sr',\n",
       "       'tt_walk', 'tt_bike', 'tt_wt', 'accTime_wt', 'egrTime_wt', 'iWait_wt',\n",
       "       'xWait_wt', 'cost_wt', 'tt_dt', 'accTime_dt', 'egrTime_dt', 'iWait_dt',\n",
       "       'xWait_dt', 'cost_dt', 'weights', 'dist_car', 'accDist_dt', 'avail_da',\n",
       "       'avail_sr', 'avail_walk', 'avail_bike', 'avail_wt', 'avail_dt',\n",
       "       'choice', 'obsID'],\n",
       "      dtype='object')"
      ]
     },
     "execution_count": 10,
     "metadata": {},
     "output_type": "execute_result"
    }
   ],
   "source": [
    "pd.read_csv('data01.csv').columns"
   ]
  },
  {
   "cell_type": "code",
   "execution_count": null,
   "metadata": {},
   "outputs": [],
   "source": []
  }
 ],
 "metadata": {
  "kernelspec": {
   "display_name": "Python 3.9.12 ('uds')",
   "language": "python",
   "name": "python3"
  },
  "language_info": {
   "codemirror_mode": {
    "name": "ipython",
    "version": 3
   },
   "file_extension": ".py",
   "mimetype": "text/x-python",
   "name": "python",
   "nbconvert_exporter": "python",
   "pygments_lexer": "ipython3",
   "version": "3.9.12"
  },
  "orig_nbformat": 4,
  "vscode": {
   "interpreter": {
    "hash": "f58340290f80d94cb09722f012e59c1dfef230db0172b2fc45ba02d178979948"
   }
  }
 },
 "nbformat": 4,
 "nbformat_minor": 2
}
